{
  "nbformat": 4,
  "nbformat_minor": 0,
  "metadata": {
    "colab": {
      "provenance": [],
      "collapsed_sections": [],
      "authorship_tag": "ABX9TyOXwyblyhGf2kmzwTd5K8Cx",
      "include_colab_link": true
    },
    "kernelspec": {
      "name": "python3",
      "display_name": "Python 3"
    },
    "language_info": {
      "name": "python"
    },
    "accelerator": "GPU",
    "gpuClass": "standard"
  },
  "cells": [
    {
      "cell_type": "markdown",
      "metadata": {
        "id": "view-in-github",
        "colab_type": "text"
      },
      "source": [
        "<a href=\"https://colab.research.google.com/github/olivia-sp/study-pjt/blob/main/gpu_ex_v0_1.ipynb\" target=\"_parent\"><img src=\"https://colab.research.google.com/assets/colab-badge.svg\" alt=\"Open In Colab\"/></a>"
      ]
    },
    {
      "cell_type": "code",
      "execution_count": 1,
      "metadata": {
        "colab": {
          "base_uri": "https://localhost:8080/"
        },
        "id": "Arbfg41jp6XV",
        "outputId": "7dc68296-8d43-4e2b-842d-0e1b8eb4fd2c"
      },
      "outputs": [
        {
          "output_type": "stream",
          "name": "stdout",
          "text": [
            "Reading package lists... Done\n",
            "Building dependency tree       \n",
            "Reading state information... Done\n",
            "libcudnn8 is already the newest version (8.4.1.50-1+cuda11.6).\n",
            "The following package was automatically installed and is no longer required:\n",
            "  libnvidia-common-460\n",
            "Use 'apt autoremove' to remove it.\n",
            "0 upgraded, 0 newly installed, 0 to remove and 25 not upgraded.\n"
          ]
        }
      ],
      "source": [
        "# Install this package to use Colab's GPU for training\n",
        "!apt install --allow-change-held-packages libcudnn8=8.4.1.50-1+cuda11.6"
      ]
    },
    {
      "cell_type": "code",
      "source": [
        "!pip install -U tensorboard_plugin_profile"
      ],
      "metadata": {
        "colab": {
          "base_uri": "https://localhost:8080/"
        },
        "id": "a-MI6WFP0j68",
        "outputId": "f27bff80-4fd0-4093-d115-56e57bebadc0"
      },
      "execution_count": 2,
      "outputs": [
        {
          "output_type": "stream",
          "name": "stdout",
          "text": [
            "Looking in indexes: https://pypi.org/simple, https://us-python.pkg.dev/colab-wheels/public/simple/\n",
            "Requirement already satisfied: tensorboard_plugin_profile in /usr/local/lib/python3.7/dist-packages (2.8.0)\n",
            "Requirement already satisfied: six>=1.10.0 in /usr/local/lib/python3.7/dist-packages (from tensorboard_plugin_profile) (1.15.0)\n",
            "Requirement already satisfied: gviz-api>=1.9.0 in /usr/local/lib/python3.7/dist-packages (from tensorboard_plugin_profile) (1.10.0)\n",
            "Requirement already satisfied: werkzeug>=0.11.15 in /usr/local/lib/python3.7/dist-packages (from tensorboard_plugin_profile) (1.0.1)\n",
            "Requirement already satisfied: protobuf>=3.12.0 in /usr/local/lib/python3.7/dist-packages (from tensorboard_plugin_profile) (3.17.3)\n",
            "Requirement already satisfied: setuptools>=41.0.0 in /usr/local/lib/python3.7/dist-packages (from tensorboard_plugin_profile) (57.4.0)\n"
          ]
        }
      ]
    },
    {
      "cell_type": "code",
      "source": [
        "# Load the TensorBoard notebook extension\n",
        "%reload_ext tensorboard"
      ],
      "metadata": {
        "id": "QW40S-Vh1EOw"
      },
      "execution_count": 3,
      "outputs": []
    },
    {
      "cell_type": "code",
      "source": [
        "import tensorflow as tf\n",
        "device_name = tf.test.gpu_device_name()\n",
        "if device_name != '/device:GPU:0':\n",
        "  raise SystemError('GPU device not found')\n",
        "print('Found GPU at: {}'.format(device_name))"
      ],
      "metadata": {
        "colab": {
          "base_uri": "https://localhost:8080/"
        },
        "id": "ncTZ2JuEqAQU",
        "outputId": "f5105d41-d3cf-495b-c1d2-b81dc4dd3eb2"
      },
      "execution_count": 4,
      "outputs": [
        {
          "output_type": "stream",
          "name": "stdout",
          "text": [
            "Found GPU at: /device:GPU:0\n"
          ]
        }
      ]
    },
    {
      "cell_type": "code",
      "source": [
        "# Clear any logs from previous runs\n",
        "!rm -rf ./logs/ "
      ],
      "metadata": {
        "id": "QFw660rvqW5i"
      },
      "execution_count": 5,
      "outputs": []
    },
    {
      "cell_type": "code",
      "source": [
        "import os\n",
        "import numpy as np\n",
        "import tensorflow as tf\n",
        "from tensorflow import keras\n",
        "from datetime import datetime\n",
        "\n",
        "# Load the data\n",
        "\n",
        "# Get current working directory\n",
        "current_dir = os.getcwd() \n",
        "current_dir\n",
        "\n",
        "\n",
        "data_train, data_test = tf.keras.datasets.fashion_mnist.load_data()\n",
        "\n",
        "\n",
        "# Parse images and labels\n",
        "(images_train, labels_train) = data_train\n",
        "(images_test, labels_test) = data_test\n",
        "\n",
        "\n",
        "\n",
        "# Remember to inherit from the correct class\n",
        "class myCallback(tf.keras.callbacks.Callback):\n",
        "        # Define the correct function signature for on_epoch_end\n",
        "        def on_epoch_end(self, epoch, logs={}):\n",
        "            if logs.get('accuracy') is not None and logs.get('accuracy') > 0.97:\n",
        "                print(\"\\nReached 99% accuracy so cancelling training!\") \n",
        "                \n",
        "                # Stop training once the above condition is met\n",
        "                self.model.stop_training = True\n"
      ],
      "metadata": {
        "id": "kwXtK7HSqANt"
      },
      "execution_count": 6,
      "outputs": []
    },
    {
      "cell_type": "code",
      "source": [
        "def reshape_and_normalize(images):\n",
        "    \n",
        "    ### START CODE HERE\n",
        "\n",
        "    # Reshape the images to add an extra dimension\n",
        "    images = images.reshape(60000, 28, 28, 1)\n",
        "    \n",
        "    # Normalize pixel values\n",
        "    images = images / 255.0\n",
        "    \n",
        "    ### END CODE HERE\n",
        "\n",
        "    return images\n",
        "\n",
        "\n",
        "def solution_model():\n",
        "    fashion_mnist = tf.keras.datasets.fashion_mnist\n",
        "    (training_images, training_labels), _ = fashion_mnist.load_data()\n",
        "\n",
        "\n",
        "    (training_images, _), _ = fashion_mnist.load_data()\n",
        "    training_images = reshape_and_normalize(training_images)\n",
        "\n",
        "    print(f\"Maximum pixel value after normalization: {np.max(training_images)}\\n\")\n",
        "    print(f\"Shape of training set after reshaping: {training_images.shape}\\n\")\n",
        "    print(f\"Shape of one image after reshaping: {training_images[0].shape}\")\n",
        "\n",
        "\n",
        "\n",
        "    # Instantiate the callback class\n",
        "    callbacks = myCallback()\n",
        "    #\n",
        "    model = tf.keras.models.Sequential([ \n",
        "        tf.keras.layers.Conv2D(64, (3,3), activation='relu', input_shape=(28,28,1)),\n",
        "        tf.keras.layers.Conv2D(64, (3,3), activation='relu'),\n",
        "        tf.keras.layers.MaxPooling2D(2,2),\n",
        "        tf.keras.layers.BatchNormalization(),\n",
        "\n",
        "        tf.keras.layers.Conv2D(128, (3,3), activation='relu'),\n",
        "        tf.keras.layers.Conv2D(128, (3,3), activation='relu'),\n",
        "        tf.keras.layers.MaxPooling2D(2,2),\n",
        "        tf.keras.layers.BatchNormalization(),\n",
        "\n",
        "        tf.keras.layers.Conv2D(256, (3,3), activation='relu'),\n",
        "        tf.keras.layers.MaxPooling2D(2,2),\n",
        "        tf.keras.layers.BatchNormalization(),\n",
        "        \n",
        "        tf.keras.layers.Flatten(),\n",
        "        tf.keras.layers.Dense(512, activation='relu'),\n",
        "        tf.keras.layers.Dense(10, activation='softmax')\n",
        "    ]) \n",
        "\n",
        "      \n",
        "    # Compile the model\n",
        "    model.compile(optimizer='adam', \n",
        "                  loss='sparse_categorical_crossentropy',  \n",
        "                  metrics=['accuracy']) \n",
        "  \n",
        "    # Create a TensorBoard callback\n",
        "    logs = \"logs/\" + datetime.now().strftime(\"%Y%m%d-%H%M%S\")\n",
        "\n",
        "    tboard_callback = tf.keras.callbacks.TensorBoard(log_dir = logs,\n",
        "                                                 histogram_freq = 1,\n",
        "                                                 profile_batch = '500,520')\n",
        "\n",
        "    # Fit the model for 10 epochs adding the callbacks\n",
        "    # and save the training history\n",
        "    model.fit(training_images, training_labels, epochs=3, callbacks=[tboard_callback])\n",
        "\n",
        "\n",
        "\n",
        "    # YOUR CODE HERE\n",
        "    return model\n"
      ],
      "metadata": {
        "id": "SEjKwISIqALX"
      },
      "execution_count": 7,
      "outputs": []
    },
    {
      "cell_type": "code",
      "source": [],
      "metadata": {
        "id": "rD9c97Js1Uy_"
      },
      "execution_count": 7,
      "outputs": []
    },
    {
      "cell_type": "code",
      "source": [
        "tf.config.experimental.list_physical_devices(\"GPU\")"
      ],
      "metadata": {
        "colab": {
          "base_uri": "https://localhost:8080/"
        },
        "id": "CB7C2zMStFYw",
        "outputId": "93afade8-69bb-470a-b8d2-ef49dc5a8577"
      },
      "execution_count": 8,
      "outputs": [
        {
          "output_type": "execute_result",
          "data": {
            "text/plain": [
              "[PhysicalDevice(name='/physical_device:GPU:0', device_type='GPU')]"
            ]
          },
          "metadata": {},
          "execution_count": 8
        }
      ]
    },
    {
      "cell_type": "code",
      "source": [
        "# Note that you'll need to save your model as a .h5 like this.\n",
        "# When you press the Submit and Test button, your saved .h5 model will\n",
        "# be sent to the testing infrastructure for scoring\n",
        "# and the score will be returned to you.\n",
        "\n",
        "if __name__ == '__main__':\n",
        "  # gpus = tf.config.list_physical_devices('GPU')\n",
        "  # if gpus:\n",
        "  #   try:\n",
        "  #     tf.config.experimental.set_memory_growth(gpus[0], True)\n",
        "  #   except RuntimeError as e:\n",
        "  #     # 프로그램 시작시에 메모리 증가가 설정되어야만 합니다\n",
        "  #     print(e)\n",
        "  \n",
        "  os.environ['TF_GPU_THREAD_MODE'] = 'gpu_private' # 추가\n",
        "  model = solution_model()\n",
        "  # Load the TensorBoard notebook extension.\n",
        "  %reload_ext tensorboard\n",
        "\n",
        "    #model.save(\"mymodel.h5\")wa\n",
        "  #with tf.device('/device:GPU:0'):\n",
        "    "
      ],
      "metadata": {
        "colab": {
          "base_uri": "https://localhost:8080/"
        },
        "id": "zByBMyFHqACN",
        "outputId": "0832d2cf-d0fd-4d45-f00c-607fe3464dac"
      },
      "execution_count": 9,
      "outputs": [
        {
          "output_type": "stream",
          "name": "stdout",
          "text": [
            "Maximum pixel value after normalization: 1.0\n",
            "\n",
            "Shape of training set after reshaping: (60000, 28, 28, 1)\n",
            "\n",
            "Shape of one image after reshaping: (28, 28, 1)\n",
            "Epoch 1/3\n",
            "1875/1875 [==============================] - 14s 6ms/step - loss: 0.4059 - accuracy: 0.8528\n",
            "Epoch 2/3\n",
            "1875/1875 [==============================] - 11s 6ms/step - loss: 0.2737 - accuracy: 0.9003\n",
            "Epoch 3/3\n",
            "1875/1875 [==============================] - 11s 6ms/step - loss: 0.2323 - accuracy: 0.9159\n"
          ]
        }
      ]
    },
    {
      "cell_type": "code",
      "source": [
        "%reload_ext tensorboard"
      ],
      "metadata": {
        "id": "_b7Gz6xQp__6"
      },
      "execution_count": 11,
      "outputs": []
    },
    {
      "cell_type": "code",
      "source": [],
      "metadata": {
        "id": "tTLzO4Zbp_9p"
      },
      "execution_count": null,
      "outputs": []
    },
    {
      "cell_type": "code",
      "source": [],
      "metadata": {
        "id": "tqXsgkwSp_7V"
      },
      "execution_count": null,
      "outputs": []
    },
    {
      "cell_type": "code",
      "source": [],
      "metadata": {
        "id": "Wyj86stQp_5H"
      },
      "execution_count": null,
      "outputs": []
    }
  ]
}